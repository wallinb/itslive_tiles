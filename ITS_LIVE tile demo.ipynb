{
 "cells": [
  {
   "cell_type": "code",
   "execution_count": 1,
   "id": "inclusive-drunk",
   "metadata": {},
   "outputs": [],
   "source": [
    "from ipyleaflet import Map, Marker, TileLayer, LocalTileLayer, projections, LayersControl, basemaps\n",
    "from ipywidgets import Label\n",
    "from traitlets import Bool"
   ]
  },
  {
   "cell_type": "code",
   "execution_count": 2,
   "id": "historical-contract",
   "metadata": {},
   "outputs": [],
   "source": [
    "gibs_bm_tiles = TileLayer(url='https://gibs.earthdata.nasa.gov/wmts/epsg3031/best/BlueMarble_NextGeneration/default/EPSG3031_500m/{z}/{y}/{x}.jpeg')"
   ]
  },
  {
   "cell_type": "code",
   "execution_count": 4,
   "id": "recognized-flour",
   "metadata": {},
   "outputs": [
    {
     "data": {
      "application/vnd.jupyter.widget-view+json": {
       "model_id": "9a2f53fa93d44a3b9cbb4bce292a9d09",
       "version_major": 2,
       "version_minor": 0
      },
      "text/plain": [
       "Map(center=[-90, 0], controls=(ZoomControl(options=['position', 'zoom_in_text', 'zoom_in_title', 'zoom_out_tex…"
      ]
     },
     "metadata": {},
     "output_type": "display_data"
    }
   ],
   "source": [
    "m = Map(basemap=gibs_bm_tiles, center=(-90, 0), zoom=0, min_zoom=0, max_zoom=5, crs=projections.EPSG3031)\n",
    "\n",
    "local = False\n",
    "itslive_tiles_path = (\n",
    "    'tiles/itslive_ant_epsg3031_zyx/{z}/{y}/{x}.png' if local else \\\n",
    "    'http://personal-temporary-share.s3-website-us-west-1.amazonaws.com/itslive_ant_epsg3031_tiles/{z}/{y}/{x}.png'\n",
    ")\n",
    "\n",
    "itslive_tiles = LocalTileLayer(\n",
    "    name=\"My ITS_LIVE\",\n",
    "    path=itslive_tiles_path,\n",
    "    tile_size=512,\n",
    "    tms=False\n",
    ")\n",
    "m.add_layer(itslive_tiles)\n",
    "\n",
    "m.add_control(LayersControl())\n",
    "m"
   ]
  },
  {
   "cell_type": "code",
   "execution_count": null,
   "id": "distinguished-riding",
   "metadata": {},
   "outputs": [],
   "source": []
  },
  {
   "cell_type": "code",
   "execution_count": null,
   "id": "danish-kennedy",
   "metadata": {},
   "outputs": [],
   "source": []
  }
 ],
 "metadata": {
  "kernelspec": {
   "display_name": "Python 3",
   "language": "python",
   "name": "python3"
  },
  "language_info": {
   "codemirror_mode": {
    "name": "ipython",
    "version": 3
   },
   "file_extension": ".py",
   "mimetype": "text/x-python",
   "name": "python",
   "nbconvert_exporter": "python",
   "pygments_lexer": "ipython3",
   "version": "3.9.2"
  }
 },
 "nbformat": 4,
 "nbformat_minor": 5
}
