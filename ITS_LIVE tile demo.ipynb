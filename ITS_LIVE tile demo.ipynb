{
 "cells": [
  {
   "cell_type": "code",
   "execution_count": 8,
   "id": "inclusive-drunk",
   "metadata": {},
   "outputs": [],
   "source": [
    "from ipyleaflet import Map, Marker, TileLayer, LocalTileLayer, projections, LayersControl, basemaps\n",
    "from ipywidgets import Label\n",
    "from traitlets import Bool"
   ]
  },
  {
   "cell_type": "code",
   "execution_count": null,
   "id": "senior-cambodia",
   "metadata": {},
   "outputs": [],
   "source": [
    "local = True  # use local or s3 tiles"
   ]
  },
  {
   "cell_type": "code",
   "execution_count": 9,
   "id": "recognized-flour",
   "metadata": {},
   "outputs": [
    {
     "data": {
      "application/vnd.jupyter.widget-view+json": {
       "model_id": "a75faa7cda56445caff429528bf9becc",
       "version_major": 2,
       "version_minor": 0
      },
      "text/plain": [
       "Map(center=[-90, 0], controls=(ZoomControl(options=['position', 'zoom_in_text', 'zoom_in_title', 'zoom_out_tex…"
      ]
     },
     "metadata": {},
     "output_type": "display_data"
    }
   ],
   "source": [
    "gibs_bm_tiles = TileLayer(url='https://gibs.earthdata.nasa.gov/wmts/epsg3031/best/BlueMarble_NextGeneration/default/EPSG3031_500m/{z}/{y}/{x}.jpeg')\n",
    "\n",
    "m = Map(basemap=gibs_bm_tiles, center=(-90, 0), zoom=0, min_zoom=0, max_zoom=5, crs=projections.EPSG3031)\n",
    "\n",
    "local = True\n",
    "itslive_tiles_path = (\n",
    "    'tiles/ITS_LIVE_velOnly_itslive_3031_cog_zyx/{z}/{y}/{x}.png' if local else \\\n",
    "    'http://personal-temporary-share.s3-website-us-west-1.amazonaws.com/ITS_LIVE_velOnly_itslive_3031_cog_zyx/{z}/{y}/{x}.png'\n",
    ")\n",
    "\n",
    "itslive_tiles = LocalTileLayer(\n",
    "    name=\"My ITS_LIVE\",\n",
    "    path=itslive_tiles_path,\n",
    "    tile_size=512,\n",
    "    tms=False\n",
    ")\n",
    "m.add_layer(itslive_tiles)\n",
    "\n",
    "m.add_control(LayersControl())\n",
    "m"
   ]
  },
  {
   "cell_type": "code",
   "execution_count": 10,
   "id": "green-union",
   "metadata": {},
   "outputs": [
    {
     "data": {
      "application/vnd.jupyter.widget-view+json": {
       "model_id": "dc52271909ca423f96306afe556e292b",
       "version_major": 2,
       "version_minor": 0
      },
      "text/plain": [
       "Map(center=[90, 0], controls=(ZoomControl(options=['position', 'zoom_in_text', 'zoom_in_title', 'zoom_out_text…"
      ]
     },
     "metadata": {},
     "output_type": "display_data"
    }
   ],
   "source": [
    "gibs_bm_tiles = TileLayer(url='https://gibs.earthdata.nasa.gov/wmts/epsg3413/best/BlueMarble_NextGeneration/default/EPSG3031_500m/{z}/{y}/{x}.jpeg')\n",
    "\n",
    "m = Map(basemap=gibs_bm_tiles, center=(90, 0), zoom=0, min_zoom=0, max_zoom=5, crs=projections.EPSG3413)\n",
    "\n",
    "itslive_tiles_path = (\n",
    "    'tiles/ITS_LIVE_velOnly_itslive_3413_cog_zyx/{z}/{y}/{x}.png' if local else \\\n",
    "    'http://personal-temporary-share.s3-website-us-west-1.amazonaws.com/ITS_LIVE_velOnly_itslive_3413_cog_zyx/{z}/{y}/{x}.png'\n",
    ")\n",
    "\n",
    "itslive_tiles = LocalTileLayer(\n",
    "    name=\"My ITS_LIVE\",\n",
    "    path=itslive_tiles_path,\n",
    "    tile_size=512,\n",
    "    tms=False\n",
    ")\n",
    "m.add_layer(itslive_tiles)\n",
    "\n",
    "m.add_control(LayersControl())\n",
    "m"
   ]
  },
  {
   "cell_type": "code",
   "execution_count": null,
   "id": "danish-kennedy",
   "metadata": {},
   "outputs": [],
   "source": []
  },
  {
   "cell_type": "code",
   "execution_count": null,
   "id": "instructional-grenada",
   "metadata": {},
   "outputs": [],
   "source": []
  }
 ],
 "metadata": {
  "kernelspec": {
   "display_name": "Python 3",
   "language": "python",
   "name": "python3"
  },
  "language_info": {
   "codemirror_mode": {
    "name": "ipython",
    "version": 3
   },
   "file_extension": ".py",
   "mimetype": "text/x-python",
   "name": "python",
   "nbconvert_exporter": "python",
   "pygments_lexer": "ipython3",
   "version": "3.9.2"
  }
 },
 "nbformat": 4,
 "nbformat_minor": 5
}
